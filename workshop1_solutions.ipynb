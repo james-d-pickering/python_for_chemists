{
 "cells": [
  {
   "cell_type": "markdown",
   "id": "84a1ef9c",
   "metadata": {},
   "source": [
    "# Leicester Chemistry: Python for Chemists\n",
    "\n",
    "\n",
    "## Workshop 1: Scientific Python Basics\n",
    "\n",
    "#### T.J. Ragan and James Pickering\n",
    "\n",
    "Originally by Software Carpentry (Cindee Madison and Thomas Kluyver, with thanks to Justin Kitzes and Matt Davis). Lightly modified by T.J. Ragan and James Pickering.\n",
    "\n",
    "As discussed in the introductory lecture, Python is a programming language that is easy to write, and very easy to read - an ideal choice for beginners. However, you'll find that many features of Python are common to other programming languages. Knowing how to program in one language makes learning others you might encounter much easier. \n",
    "\n",
    "\n",
    "### Outline\n",
    "\n",
    "Today we're going to start learning the basics. In this workshop, we're going to:\n",
    "- Learn the basic structure of Python, and learn to use Jupyter notebook.\n",
    "- Understand variables and basic functions.\n",
    "- Write a short script to calculate molarity.\n",
    "\n",
    "### The Jupyter Notebook\n",
    "\n",
    "We're doing this workshop in an interactive notebook called **Jupyter**. A Jupyter notebook is a place where you can run snippets of Python code in individual *cells* - it's not just an educational thing, lots of us writing Python in real life use Jupyter every day (like me!). \n",
    "\n",
    "Each cell has both an *input* (marked \"In [number]\") and an *output* (marked \"Out [number]\"), where the cells are numbered sequentially. The input is what you tell the computer to do, and the output is what the computer sends back to you in response.\n",
    "\n",
    "You'll get used to how to run cells as we go along, but here are a couple of useful tips:\n",
    "\n",
    "**TIP**: To run the code in a cell quickly, hit Ctrl-Enter.\n",
    "\n",
    "**TIP**: To run the code in a cell and move to the next cell, hit Shift-Enter.\n",
    "\n",
    "**TIP**: To make a new cell below the current cell, type Ctrl-m and then b. Other shortcuts for manipulating cells are in the menubar at the top of the screen.\n",
    "\n",
    "## 1. Individual Things\n",
    "\n",
    "The most basic component of any programming language are \"things\" - also called *variables* or (in special cases) *objects*. \n",
    "\n",
    "Examples of basic \"things\" would be numbers (*integers* or *floats*), bits of text (*strings*), and True/False logic values (*booleans*). We'll meet many of these today, and will keep seeing them throughout this course. \n",
    "\n",
    "Let's see some examples of \"things\" now. Note that any line of Python code that starts with a hash (#) symbol is a *comment*. Comments don't get run by the computer, and are just there so that the programmer(s) can make notes and document what the code does.\n",
    "\n"
   ]
  },
  {
   "cell_type": "code",
   "execution_count": 2,
   "id": "8b65e4a3",
   "metadata": {},
   "outputs": [
    {
     "data": {
      "text/plain": [
       "2"
      ]
     },
     "execution_count": 2,
     "metadata": {},
     "output_type": "execute_result"
    }
   ],
   "source": [
    "# A thing\n",
    "2"
   ]
  },
  {
   "cell_type": "code",
   "execution_count": 25,
   "id": "4438ab37",
   "metadata": {},
   "outputs": [
    {
     "name": "stdout",
     "output_type": "stream",
     "text": [
      "2\n",
      "chemistry is cool\n"
     ]
    }
   ],
   "source": [
    "# Use \"print\" to show multiple things in the same cell.\n",
    "# an integer\n",
    "print(2)\n",
    "# a string - can use single or double quotes\n",
    "print('chemistry is cool')"
   ]
  },
  {
   "cell_type": "code",
   "execution_count": 26,
   "id": "417692a3",
   "metadata": {},
   "outputs": [
    {
     "name": "stdout",
     "output_type": "stream",
     "text": [
      "2 chemistry is cool True\n"
     ]
    }
   ],
   "source": [
    "# Variables point to things\n",
    "a = 2 \n",
    "b = 'chemistry is cool'\n",
    "c = True # it matters that it is \"True\" and not \"true\"\n",
    "print(a, b, c)"
   ]
  },
  {
   "cell_type": "code",
   "execution_count": 27,
   "id": "29fbf2b3",
   "metadata": {},
   "outputs": [
    {
     "name": "stdout",
     "output_type": "stream",
     "text": [
      "<class 'int'>\n",
      "<class 'str'>\n",
      "<class 'bool'>\n"
     ]
    }
   ],
   "source": [
    "# the \"type\" function tells us what type of thing we have\n",
    "print(type(a))\n",
    "print(type(b))\n",
    "print(type(c))"
   ]
  },
  {
   "cell_type": "code",
   "execution_count": 28,
   "id": "3c2b4f20",
   "metadata": {},
   "outputs": [
    {
     "name": "stdout",
     "output_type": "stream",
     "text": [
      "1\n"
     ]
    }
   ],
   "source": [
    "# What happens if a new variable points to a previous variable?\n",
    "a = 1\n",
    "b = a\n",
    "a = 2\n",
    "# What is b?\n",
    "print(b)"
   ]
  },
  {
   "cell_type": "markdown",
   "id": "d25129ec",
   "metadata": {},
   "source": [
    "## 2. Commands that operate on things\n",
    "\n",
    "Storing things in variables is great, but isn't much use on its own. We want to be able to manipulate our variables and perform various opreations on them. \n",
    "\n",
    "There are three very common ways of performing an operation on a thing.\n",
    "\n",
    "### 2.1 Use an operator\n",
    "\n",
    "All the basic mathematical operators (+, -, etc) work as expected for numbers:"
   ]
  },
  {
   "cell_type": "code",
   "execution_count": 29,
   "id": "f9c39442",
   "metadata": {},
   "outputs": [
    {
     "name": "stdout",
     "output_type": "stream",
     "text": [
      "5\n",
      "6\n",
      "-1\n",
      "8\n",
      "0.6666666666666666\n"
     ]
    }
   ],
   "source": [
    "# Standard mathematical operators work as expected on numbers\n",
    "a = 2\n",
    "b = 3\n",
    "print(a + b)\n",
    "print(a * b)\n",
    "print(a - b)\n",
    "print(a ** b) #this is a to the power of b.\n",
    "print(a / b)"
   ]
  },
  {
   "cell_type": "markdown",
   "id": "a7ca3dc4",
   "metadata": {},
   "source": [
    "You can also use these operators on other things, like strings:"
   ]
  },
  {
   "cell_type": "code",
   "execution_count": 30,
   "id": "5ee4de78",
   "metadata": {},
   "outputs": [
    {
     "name": "stdout",
     "output_type": "stream",
     "text": [
      "chemistry\n",
      "istryistryistry\n"
     ]
    }
   ],
   "source": [
    "# Using mathematical operators on strings\n",
    "a = 'chem'\n",
    "b = 'istry'\n",
    "print(a + b)\n",
    "print(b * 3)\n",
    "# print(b / 3) - this doesn't work on a string! "
   ]
  },
  {
   "cell_type": "markdown",
   "id": "b8013910",
   "metadata": {},
   "source": [
    "Another kind of operator is the *Boolean* operator. These operators compare two things. "
   ]
  },
  {
   "cell_type": "code",
   "execution_count": 31,
   "id": "84bb3c35",
   "metadata": {},
   "outputs": [
    {
     "name": "stdout",
     "output_type": "stream",
     "text": [
      "False\n",
      "True\n",
      "True\n",
      "False\n"
     ]
    }
   ],
   "source": [
    "# Boolean operators compare two things\n",
    "a = 1\n",
    "b = 3\n",
    "c = (a > b) # checking if a is bigger than b\n",
    "d = (b == 3) # checking if b is equal to 3. Note the double equals!\n",
    "print(c)\n",
    "print(d)\n",
    "print(c or d) #is either c or d True?\n",
    "print(c and d) #are both c and d True?"
   ]
  },
  {
   "cell_type": "markdown",
   "id": "d1b569d1",
   "metadata": {},
   "source": [
    "### 2.2 Using Functions\n",
    "\n",
    "Functions are a very common part of any programming language. We've already used the `print` and `type` functions.\n",
    "\n",
    "When you use a function you write something like `print(thing)`. The 'thing' here is called the **argument** of the function. The general syntax is then:\n",
    "\n",
    "`function(argument)`\n",
    "\n",
    "We can have functions that take more than one argument too - we will meet some of these later."
   ]
  },
  {
   "cell_type": "code",
   "execution_count": 32,
   "id": "3c66e8b7",
   "metadata": {},
   "outputs": [
    {
     "name": "stdout",
     "output_type": "stream",
     "text": [
      "<class 'int'>\n",
      "9\n",
      "3\n"
     ]
    }
   ],
   "source": [
    "# There are thousands of functions that operate on things.\n",
    "# What do you think the len and round functions do?\n",
    "print(type(3))\n",
    "print(len('chemistry'))\n",
    "print(round(3.3))"
   ]
  },
  {
   "cell_type": "markdown",
   "id": "70a6a096",
   "metadata": {},
   "source": [
    "**TIP**: To find out what a function does, you can type it's name and then a question mark to get a pop-up help window. \n",
    "\n",
    "## Note for TJ - for me, doing print( and then tab just gives a huge list of possible inputs, rather than prompting me with the arguments (like spyder would) - something I am doing wrong?\n"
   ]
  },
  {
   "cell_type": "code",
   "execution_count": 33,
   "id": "3fc23d24",
   "metadata": {},
   "outputs": [
    {
     "data": {
      "text/plain": [
       "3.14"
      ]
     },
     "execution_count": 33,
     "metadata": {},
     "output_type": "execute_result"
    }
   ],
   "source": [
    "#round?\n",
    "# round can take two arguments:\n",
    "round(3.14159, 2)"
   ]
  },
  {
   "cell_type": "markdown",
   "id": "86b447d4",
   "metadata": {},
   "source": [
    "#### External Packages\n",
    "Many useful functions are not built into Python like the above functions, but are in external packages. We'll use a couple of packages in this course, but today we will demonstrate using a useful package called *NumPy* (Numerical Python). Numpy contains lots of useful things for us as scientists.\n",
    "\n",
    "When we want to load a package we write:\n",
    "\n",
    "`import package as name`\n",
    "\n",
    "Where `name` is normally an abbreviated version of the package name to make programming faster. Let's load numpy now.\n",
    "\n",
    "## Note for TJ - we said we would not use numpy yet, but I think stuff like trig/square roots will be useful for them to know, and I guess they will need to do this anyway once we start doing more complex stuff."
   ]
  },
  {
   "cell_type": "code",
   "execution_count": 34,
   "id": "1a8bd828",
   "metadata": {},
   "outputs": [],
   "source": [
    "# let's meet numpy, which we will name 'np' for brevity.\n",
    "import numpy as np\n"
   ]
  },
  {
   "cell_type": "code",
   "execution_count": 35,
   "id": "50279f1c",
   "metadata": {},
   "outputs": [],
   "source": [
    "# you can find out what's in a package\n",
    "#np?"
   ]
  },
  {
   "cell_type": "code",
   "execution_count": 36,
   "id": "fecd4c4a",
   "metadata": {},
   "outputs": [
    {
     "name": "stdout",
     "output_type": "stream",
     "text": [
      "2.0\n",
      "3.141592653589793\n",
      "1.2246467991473532e-16\n"
     ]
    }
   ],
   "source": [
    "# numpy contains a load of useful functions for us as scientists\n",
    "print(np.sqrt(4))\n",
    "print(np.pi)\n",
    "print(np.sin(np.pi)) #note how close this is to zero!"
   ]
  },
  {
   "cell_type": "markdown",
   "id": "317b7549",
   "metadata": {},
   "source": [
    "### 2.3 Methods\n",
    "\n",
    "Sometimes in Python we can achieve the same thing we can with a function by using a thing called a *method*. \n",
    "\n",
    "*Methods* apply to *objects* - we won't go into exactly what an object is in this workshop, but you can think of an object as a small bundled 'thing'. The object contains (for example) both data, and functions that operate on that data. Functions that are bundled into an object are called *methods*. Don't worry too much about the details behind this yet though. \n",
    "\n",
    "The syntax for a function was:\n",
    "\n",
    "`function(arguments)`\n",
    "\n",
    "The syntax for a method is:\n",
    "\n",
    "`object.method(arguments)`\n",
    "\n",
    "Most variables are actually objects, as we can see now.\n"
   ]
  },
  {
   "cell_type": "code",
   "execution_count": 39,
   "id": "e299e713",
   "metadata": {},
   "outputs": [
    {
     "name": "stdout",
     "output_type": "stream",
     "text": [
      "Chemistry is the best\n",
      "james and TJ are the best\n"
     ]
    }
   ],
   "source": [
    "# A string is really an object\n",
    "a = 'chemistry is the best'\n",
    "\n",
    "# objects have bundled methods\n",
    "print(a.capitalize())\n",
    "print(a.replace('chemistry is', 'james and TJ are'))\n"
   ]
  },
  {
   "cell_type": "markdown",
   "id": "9e269a69",
   "metadata": {},
   "source": [
    "### Exercise 1 - Molarity \n",
    "\n",
    "Now we are going to build a small program for calculating the molarity (concentration) of a solution. Throughout the course we're going to extend this so it can be more and more useful for you in the practical course. \n",
    "\n",
    "We know the formula for solution concentration:\n",
    "\n",
    "$ concentration = \\frac{moles}{volume}$\n",
    "\n",
    "1. Create a variable (`moles`) for the number of moles of solute in your solution.\n",
    "2. Create a variable (`volume`) for the volume of solvent in your solution.\n",
    "3. Work out the concentration according to the formula, and store the result in a new variable (`concentration`).\n",
    "4. Print the result with correct units.\n",
    "\n",
    "**Challenge**\n",
    "\n",
    "5. Convert from concentration and volume to moles."
   ]
  },
  {
   "cell_type": "code",
   "execution_count": 38,
   "id": "1cb4a85c",
   "metadata": {},
   "outputs": [
    {
     "name": "stdout",
     "output_type": "stream",
     "text": [
      "The concentration of my solution is: 20.0 mol/dm^3\n"
     ]
    }
   ],
   "source": [
    "moles = 5 #in mol\n",
    "volume = 0.25 #in dm^3\n",
    "\n",
    "concentration = moles / volume\n",
    "\n",
    "print('The concentration of my solution is:', concentration, 'mol/dm^3')"
   ]
  },
  {
   "cell_type": "markdown",
   "id": "46686650",
   "metadata": {},
   "source": [
    "### Coming Up\n",
    "\n",
    "Next time we're going to really start to explore the power of programming. After all, you *could* just have done that calculation of molarity on a calculator, right?\n",
    "\n",
    "What if we actually have to calculate the molarity of 100 solutions? That is when programming saves us hours of time, and what we'll explore next time"
   ]
  },
  {
   "cell_type": "code",
   "execution_count": null,
   "id": "921a8db3",
   "metadata": {},
   "outputs": [],
   "source": []
  }
 ],
 "metadata": {
  "kernelspec": {
   "display_name": "Python 3",
   "language": "python",
   "name": "python3"
  },
  "language_info": {
   "codemirror_mode": {
    "name": "ipython",
    "version": 3
   },
   "file_extension": ".py",
   "mimetype": "text/x-python",
   "name": "python",
   "nbconvert_exporter": "python",
   "pygments_lexer": "ipython3",
   "version": "3.8.8"
  }
 },
 "nbformat": 4,
 "nbformat_minor": 5
}
